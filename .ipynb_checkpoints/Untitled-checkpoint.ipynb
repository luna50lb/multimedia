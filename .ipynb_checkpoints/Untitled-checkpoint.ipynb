{
 "cells": [
  {
   "cell_type": "code",
   "execution_count": 1,
   "id": "0eff5cbf-82ae-4db5-9b9f-2239097eb097",
   "metadata": {},
   "outputs": [
    {
     "name": "stdout",
     "output_type": "stream",
     "text": [
      "/Users/lunal.brown/Personal/DataScience/github/multimedia\n"
     ]
    }
   ],
   "source": [
    "import os\n",
    "print(os.getcwd() )\n",
    "import cv2\n",
    "import numpy as np\n",
    "import pyautogui"
   ]
  },
  {
   "cell_type": "code",
   "execution_count": 2,
   "id": "e705936a-0f79-4e77-b462-a7cf30d38434",
   "metadata": {},
   "outputs": [
    {
     "name": "stdout",
     "output_type": "stream",
     "text": [
      "image=\n",
      " [[0 0 0 ... 0 0 0]\n",
      " [0 0 0 ... 0 0 0]\n",
      " [0 0 0 ... 0 0 0]\n",
      " ...\n",
      " [0 0 0 ... 0 0 0]\n",
      " [0 0 0 ... 0 0 0]\n",
      " [0 0 0 ... 0 0 0]]\n"
     ]
    }
   ],
   "source": [
    "image = cv2.imread('gg1.png',0)\n",
    "print('image=\\n', image )\n",
    "cv2.imshow(\"ImageA\",image, '\\n shape=') # the title and path to image\n",
    "cv2.waitKey() # Waits for the next key to be pressed\n",
    "cv2.destroyAllWindows()"
   ]
  },
  {
   "cell_type": "code",
   "execution_count": 2,
   "id": "926fae2a-65e7-4231-949e-77a3e09bc117",
   "metadata": {},
   "outputs": [],
   "source": [
    "# cv2.waitKey(0)\n"
   ]
  },
  {
   "cell_type": "code",
   "execution_count": 3,
   "id": "8cf0054e-7467-47b9-b098-fe3e0c6d1d60",
   "metadata": {},
   "outputs": [
    {
     "name": "stdout",
     "output_type": "stream",
     "text": [
      "frame=\n",
      " [[[155  22  75]\n",
      "  [154  22  75]\n",
      "  [154  22  75]\n",
      "  ...\n",
      "  [162  15  41]\n",
      "  [163  14  42]\n",
      "  [163  14  41]]\n",
      "\n",
      " [[154  22  75]\n",
      "  [154  22  75]\n",
      "  [153  22  74]\n",
      "  ...\n",
      "  [163  13  41]\n",
      "  [163  14  41]\n",
      "  [162  14  41]]\n",
      "\n",
      " [[154  21  75]\n",
      "  [154  22  75]\n",
      "  [155  22  75]\n",
      "  ...\n",
      "  [163  14  41]\n",
      "  [163  14  41]\n",
      "  [163  14  40]]\n",
      "\n",
      " ...\n",
      "\n",
      " [[ 41   6  15]\n",
      "  [ 41   5  14]\n",
      "  [ 40   5  14]\n",
      "  ...\n",
      "  [ 58   3  19]\n",
      "  [ 58   5  20]\n",
      "  [ 58   5  20]]\n",
      "\n",
      " [[ 41   5  14]\n",
      "  [ 41   5  14]\n",
      "  [ 41   5  14]\n",
      "  ...\n",
      "  [ 58   5  20]\n",
      "  [ 58   5  20]\n",
      "  [ 58   5  20]]\n",
      "\n",
      " [[ 41   5  14]\n",
      "  [ 41   5  14]\n",
      "  [ 42   6  15]\n",
      "  ...\n",
      "  [ 59   6  20]\n",
      "  [ 58   5  20]\n",
      "  [ 58   5  20]]]\n",
      "frame shape= (2240, 3584, 3)\n"
     ]
    }
   ],
   "source": [
    "img = pyautogui.screenshot()\n",
    "\n",
    "# Convert the screenshot to a numpy array\n",
    "frame = np.array(img)\n",
    "\n",
    "# Convert it from BGR(Blue, Green, Red) to\n",
    "# RGB(Red, Green, Blue)\n",
    "frame = cv2.cvtColor(frame, cv2.COLOR_BGR2RGB)\n",
    "\n",
    "print('frame=\\n', frame)\n",
    "print('frame shape=', frame.shape)\n",
    "# Write it to the output file\n",
    "# out.write(frame)\n",
    "\n",
    "# Optional: Display the recording screen\n",
    "# cv2.imshow('Live', frame)"
   ]
  },
  {
   "cell_type": "code",
   "execution_count": 2,
   "id": "0a495a01-6f04-40b5-8171-a07ebf3795c2",
   "metadata": {},
   "outputs": [],
   "source": [
    "# Specify resolution\n",
    "resolution = (1920, 1080)\n",
    "\n",
    "# Specify video codec\n",
    "codec = cv2.VideoWriter_fourcc(*\"XVID\")\n",
    "\n",
    "# Specify name of Output file\n",
    "filename = \"Recording.avi\"\n",
    "\n",
    "# Specify frames rate. We can choose\n",
    "# any value and experiment with it\n",
    "fps = 60.0\n",
    "\n",
    "# Creating a VideoWriter object\n",
    "out = cv2.VideoWriter(filename, codec, fps, resolution)\n"
   ]
  },
  {
   "cell_type": "code",
   "execution_count": null,
   "id": "1bfd45b2-067c-4fee-aaf0-c53955e795a0",
   "metadata": {},
   "outputs": [],
   "source": []
  },
  {
   "cell_type": "code",
   "execution_count": 3,
   "id": "736391bf-b93b-4fc8-9c12-f8efb2dcf1de",
   "metadata": {},
   "outputs": [],
   "source": [
    "# Create an Empty window\n",
    "cv2.namedWindow(\"Live\", cv2.WINDOW_NORMAL)\n",
    "\n",
    "# Resize this window\n",
    "cv2.resizeWindow(\"Live\", 480, 270)\n"
   ]
  },
  {
   "cell_type": "code",
   "execution_count": 16,
   "id": "e839d746-6234-453a-bd73-6ba7d5d3fbe9",
   "metadata": {},
   "outputs": [
    {
     "ename": "KeyboardInterrupt",
     "evalue": "",
     "output_type": "error",
     "traceback": [
      "\u001b[0;31m---------------------------------------------------------------------------\u001b[0m",
      "\u001b[0;31mKeyboardInterrupt\u001b[0m                         Traceback (most recent call last)",
      "\u001b[0;32m<ipython-input-16-731029c759b7>\u001b[0m in \u001b[0;36m<module>\u001b[0;34m\u001b[0m\n\u001b[1;32m     18\u001b[0m \u001b[0;34m\u001b[0m\u001b[0m\n\u001b[1;32m     19\u001b[0m     \u001b[0;31m# Stop recording when we press 'q'\u001b[0m\u001b[0;34m\u001b[0m\u001b[0;34m\u001b[0m\u001b[0;34m\u001b[0m\u001b[0m\n\u001b[0;32m---> 20\u001b[0;31m     \u001b[0;32mif\u001b[0m \u001b[0mcv2\u001b[0m\u001b[0;34m.\u001b[0m\u001b[0mwaitKey\u001b[0m\u001b[0;34m(\u001b[0m\u001b[0;36m1\u001b[0m\u001b[0;34m)\u001b[0m \u001b[0;34m==\u001b[0m \u001b[0mord\u001b[0m\u001b[0;34m(\u001b[0m\u001b[0;34m'q'\u001b[0m\u001b[0;34m)\u001b[0m\u001b[0;34m:\u001b[0m\u001b[0;34m\u001b[0m\u001b[0;34m\u001b[0m\u001b[0m\n\u001b[0m\u001b[1;32m     21\u001b[0m         \u001b[0;32mbreak\u001b[0m\u001b[0;34m\u001b[0m\u001b[0;34m\u001b[0m\u001b[0m\n",
      "\u001b[0;31mKeyboardInterrupt\u001b[0m: "
     ]
    }
   ],
   "source": [
    "while True:\n",
    "\n",
    "    # Take screenshot using PyAutoGUI\n",
    "    img = pyautogui.screenshot()\n",
    "\n",
    "    # Convert the screenshot to a numpy array\n",
    "    frame = np.array(img)\n",
    "\n",
    "    # Convert it from BGR(Blue, Green, Red) to\n",
    "    # RGB(Red, Green, Blue)\n",
    "    frame = cv2.cvtColor(frame, cv2.COLOR_BGR2RGB)\n",
    "\n",
    "    # Write it to the output file\n",
    "    out.write(frame)\n",
    "\n",
    "    # Optional: Display the recording screen\n",
    "    cv2.imshow('Live', frame)\n",
    "\n",
    "    # Stop recording when we press 'q'\n",
    "    if cv2.waitKey(1) == ord('q'):\n",
    "        break\n",
    "#"
   ]
  },
  {
   "cell_type": "code",
   "execution_count": 12,
   "id": "c430c361-2c94-48ef-b4fb-37f900205aa9",
   "metadata": {},
   "outputs": [],
   "source": [
    "# display screen resolution, get it using pyautogui itself\n",
    "SCREEN_SIZE = tuple(pyautogui.size())\n",
    "# define the codec\n",
    "fourcc = cv2.VideoWriter_fourcc(*\"XVID\")\n",
    "# frames per second\n",
    "fps = 12.0\n",
    "# create the video write object\n",
    "#out = cv2.VideoWriter(\"output.avi\", fourcc, fps, (SCREEN_SIZE))\n",
    "out = cv2.VideoWriter(\"output.mp4\", fourcc, fps, (SCREEN_SIZE))\n",
    "\n",
    "# the time you want to record in seconds\n",
    "record_seconds = 1\n"
   ]
  },
  {
   "cell_type": "code",
   "execution_count": 13,
   "id": "a970673e-b11f-4334-8fda-ef9a52666334",
   "metadata": {},
   "outputs": [
    {
     "name": "stdout",
     "output_type": "stream",
     "text": [
      "i= 0\n",
      "i= 1\n",
      "i= 2\n",
      "i= 3\n",
      "i= 4\n",
      "i= 5\n",
      "i= 6\n",
      "i= 7\n",
      "i= 8\n",
      "i= 9\n",
      "i= 10\n",
      "i= 11\n"
     ]
    }
   ],
   "source": [
    "for i in range(int(record_seconds * fps)):\n",
    "    # make a screenshot\n",
    "    img = pyautogui.screenshot()\n",
    "    # convert these pixels to a proper numpy array to work with OpenCV\n",
    "    frame = np.array(img)\n",
    "    # convert colors from BGR to RGB\n",
    "    frame = cv2.cvtColor(frame, cv2.COLOR_BGR2RGB)\n",
    "    # write the frame\n",
    "    out.write(frame)\n",
    "    # show the frame\n",
    "    #cv2.imshow(\"screenshot\", frame)\n",
    "    print('i=',i)\n",
    "    # if the user clicks q, it exits\n",
    "    if cv2.waitKey(1) == ord(\"q\"):\n",
    "        break\n",
    "\n",
    "# make sure everything is closed when exited\n",
    "out.release()\n",
    "cv2.destroyAllWindows()\n"
   ]
  },
  {
   "cell_type": "code",
   "execution_count": 3,
   "id": "120175d1-06e8-455b-99c8-fe8f52af97d7",
   "metadata": {},
   "outputs": [
    {
     "data": {
      "text/plain": [
       "Size(width=1792, height=1120)"
      ]
     },
     "execution_count": 3,
     "metadata": {},
     "output_type": "execute_result"
    }
   ],
   "source": [
    "pyautogui.size()\n"
   ]
  },
  {
   "cell_type": "code",
   "execution_count": 5,
   "id": "98da26ba-f651-4505-ad3f-d7dfc53987b7",
   "metadata": {},
   "outputs": [
    {
     "data": {
      "text/plain": [
       "113"
      ]
     },
     "execution_count": 5,
     "metadata": {},
     "output_type": "execute_result"
    }
   ],
   "source": [
    "# img = pyautogui.screenshot()\n",
    "cv2.waitKey(1)\n",
    "ord('q')"
   ]
  },
  {
   "cell_type": "code",
   "execution_count": 10,
   "id": "481b8a79-9965-4400-848b-2dd83bab3d80",
   "metadata": {},
   "outputs": [
    {
     "data": {
      "text/plain": [
       "array([[[137,  25,  69],\n",
       "        [137,  25,  69],\n",
       "        [137,  25,  69],\n",
       "        ...,\n",
       "        [140,  17,  39],\n",
       "        [141,  16,  40],\n",
       "        [141,  16,  39]],\n",
       "\n",
       "       [[137,  25,  69],\n",
       "        [137,  25,  69],\n",
       "        [136,  25,  68],\n",
       "        ...,\n",
       "        [141,  16,  39],\n",
       "        [141,  16,  39],\n",
       "        [140,  16,  39]],\n",
       "\n",
       "       [[137,  25,  69],\n",
       "        [137,  25,  69],\n",
       "        [137,  25,  70],\n",
       "        ...,\n",
       "        [141,  16,  39],\n",
       "        [141,  16,  39],\n",
       "        [141,  16,  39]],\n",
       "\n",
       "       ...,\n",
       "\n",
       "       [[ 41,   6,  15],\n",
       "        [ 41,   5,  14],\n",
       "        [ 40,   5,  14],\n",
       "        ...,\n",
       "        [ 58,   3,  19],\n",
       "        [ 58,   5,  20],\n",
       "        [ 58,   5,  20]],\n",
       "\n",
       "       [[ 41,   5,  14],\n",
       "        [ 41,   5,  14],\n",
       "        [ 41,   5,  14],\n",
       "        ...,\n",
       "        [ 58,   5,  20],\n",
       "        [ 58,   5,  20],\n",
       "        [ 58,   5,  20]],\n",
       "\n",
       "       [[ 41,   5,  14],\n",
       "        [ 41,   5,  14],\n",
       "        [ 42,   6,  15],\n",
       "        ...,\n",
       "        [ 59,   6,  20],\n",
       "        [ 58,   5,  20],\n",
       "        [ 58,   5,  20]]], dtype=uint8)"
      ]
     },
     "execution_count": 10,
     "metadata": {},
     "output_type": "execute_result"
    }
   ],
   "source": [
    "# img\n",
    "# out\n",
    "frame"
   ]
  },
  {
   "cell_type": "code",
   "execution_count": 11,
   "id": "b8b210aa-0338-43c6-9038-efa7c6b7968d",
   "metadata": {},
   "outputs": [
    {
     "data": {
      "text/plain": [
       "1145656920"
      ]
     },
     "execution_count": 11,
     "metadata": {},
     "output_type": "execute_result"
    }
   ],
   "source": [
    "fourcc"
   ]
  },
  {
   "cell_type": "code",
   "execution_count": null,
   "id": "0a70c972-b0fb-470b-873a-033d960cdd26",
   "metadata": {},
   "outputs": [],
   "source": []
  }
 ],
 "metadata": {
  "kernelspec": {
   "display_name": "Python 3",
   "language": "python",
   "name": "python3"
  },
  "language_info": {
   "codemirror_mode": {
    "name": "ipython",
    "version": 3
   },
   "file_extension": ".py",
   "mimetype": "text/x-python",
   "name": "python",
   "nbconvert_exporter": "python",
   "pygments_lexer": "ipython3",
   "version": "3.8.7"
  }
 },
 "nbformat": 4,
 "nbformat_minor": 5
}
